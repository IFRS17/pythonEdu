{
  "nbformat": 4,
  "nbformat_minor": 0,
  "metadata": {
    "colab": {
      "provenance": []
    },
    "kernelspec": {
      "name": "python3",
      "display_name": "Python 3"
    },
    "language_info": {
      "name": "python"
    }
  },
  "cells": [
    {
      "cell_type": "markdown",
      "source": [
        "# Google Colab / Python 환경 소개"
      ],
      "metadata": {
        "id": "w-sZtSVdknG-"
      }
    },
    {
      "cell_type": "markdown",
      "source": [
        " ## Google Colab: 데이터 애널리스트, 데이터 사이언티스트가 주로 이용하는 파이썬 환경\n",
        " - 장점\n",
        "   - 파이썬 버전 최신화\n",
        "   - 라이브러리 안정적 제공\n",
        "   - Google Cloud Platform 리소스 연동 및 GPU 이용 가능\n",
        "   - 구글 드라이브 연동 및 파일 자동 저장\n",
        "   - 구글 계정 권한 및 댓글 기능으로 협업 용이\n",
        " - 단점\n",
        "   - 초 대용량 처리시 성능의 한계: 유료 혹은 자체 호스팅 시스템 구성 필요\n",
        "   - 처리 결과 등 별도 저장소에 관리 필요\n",
        "   - 구글 자체 호스팅으로 회사 보안 정책에 따라 이용이 자유롭지 않을 수 있음\n",
        "\n",
        "## Google Colab의 대안: 각 PC에서 VSCode + Jupyter Notebook 확장기능 이용\n",
        "   - 설치 가이드 예: https://whiteramen.tistory.com/39\n",
        "   - 검색 키워드: VSCode 주피터 노트북, VSCode jupyter notebook"
      ],
      "metadata": {
        "id": "xDvt1scmkwHN"
      }
    },
    {
      "cell_type": "markdown",
      "source": [
        "# Python 기초 따라하기\n",
        " - 레퍼런스1: [점프 투 파이썬, 위키독스 공개버전](https://wikidocs.net/2)\n",
        " - 레퍼런스2: [생활코딩 Python 입문 수업](https://opentutorials.org/course/4769)"
      ],
      "metadata": {
        "id": "Fk84MEXPj4p5"
      }
    },
    {
      "cell_type": "markdown",
      "source": [
        "## Hello World!"
      ],
      "metadata": {
        "id": "IqtyJu07osij"
      }
    },
    {
      "cell_type": "code",
      "source": [
        "print('Hello World!')"
      ],
      "metadata": {
        "colab": {
          "base_uri": "https://localhost:8080/"
        },
        "id": "x_7cF9yEou0Z",
        "outputId": "e7b57212-80ae-4d8f-acfb-b14e90edd6e3"
      },
      "execution_count": 1,
      "outputs": [
        {
          "output_type": "stream",
          "name": "stdout",
          "text": [
            "Hello World!\n"
          ]
        }
      ]
    },
    {
      "cell_type": "code",
      "source": [
        "'Hello World!'"
      ],
      "metadata": {
        "colab": {
          "base_uri": "https://localhost:8080/",
          "height": 0
        },
        "id": "UOQxo7H6oyrR",
        "outputId": "d5d6ebc0-2a0e-4914-9b4c-1b37391de77e"
      },
      "execution_count": 2,
      "outputs": [
        {
          "output_type": "execute_result",
          "data": {
            "text/plain": [
              "'Hello World!'"
            ],
            "application/vnd.google.colaboratory.intrinsic+json": {
              "type": "string"
            }
          },
          "metadata": {},
          "execution_count": 2
        }
      ]
    },
    {
      "cell_type": "markdown",
      "source": [
        "## 사칙연산"
      ],
      "metadata": {
        "id": "u8YTOLCbnD3j"
      }
    },
    {
      "cell_type": "code",
      "source": [
        "1 + 1"
      ],
      "metadata": {
        "colab": {
          "base_uri": "https://localhost:8080/"
        },
        "id": "AOs_c6BbjxJj",
        "outputId": "bc66e424-9888-4c8f-a45c-644b7a66b2ec"
      },
      "execution_count": 3,
      "outputs": [
        {
          "output_type": "execute_result",
          "data": {
            "text/plain": [
              "2"
            ]
          },
          "metadata": {},
          "execution_count": 3
        }
      ]
    },
    {
      "cell_type": "code",
      "source": [
        "1 - 1"
      ],
      "metadata": {
        "colab": {
          "base_uri": "https://localhost:8080/"
        },
        "id": "6aVsRumXr0lm",
        "outputId": "10e742ee-18b3-4047-ed19-007f16f70e01"
      },
      "execution_count": 4,
      "outputs": [
        {
          "output_type": "execute_result",
          "data": {
            "text/plain": [
              "0"
            ]
          },
          "metadata": {},
          "execution_count": 4
        }
      ]
    },
    {
      "cell_type": "code",
      "execution_count": 5,
      "metadata": {
        "colab": {
          "base_uri": "https://localhost:8080/"
        },
        "id": "80agPTy_jq4S",
        "outputId": "cb591eb0-b6d6-4c13-9a6b-a5f3f09a3940"
      },
      "outputs": [
        {
          "output_type": "execute_result",
          "data": {
            "text/plain": [
              "4"
            ]
          },
          "metadata": {},
          "execution_count": 5
        }
      ],
      "source": [
        "2 * 2"
      ]
    },
    {
      "cell_type": "code",
      "source": [
        "3 ** 2"
      ],
      "metadata": {
        "colab": {
          "base_uri": "https://localhost:8080/"
        },
        "id": "oVdIp2X8m2HZ",
        "outputId": "b28c4675-d196-4e1d-eca8-14860efc04cb"
      },
      "execution_count": 6,
      "outputs": [
        {
          "output_type": "execute_result",
          "data": {
            "text/plain": [
              "9"
            ]
          },
          "metadata": {},
          "execution_count": 6
        }
      ]
    },
    {
      "cell_type": "code",
      "source": [
        "10 / 3"
      ],
      "metadata": {
        "colab": {
          "base_uri": "https://localhost:8080/"
        },
        "id": "RSCPvSdMm4B9",
        "outputId": "782ab6f9-0dfa-49b0-a18d-27cd4df230dc"
      },
      "execution_count": 7,
      "outputs": [
        {
          "output_type": "execute_result",
          "data": {
            "text/plain": [
              "3.3333333333333335"
            ]
          },
          "metadata": {},
          "execution_count": 7
        }
      ]
    },
    {
      "cell_type": "code",
      "source": [
        "10 // 3"
      ],
      "metadata": {
        "colab": {
          "base_uri": "https://localhost:8080/"
        },
        "id": "B9zgQncfm-Hy",
        "outputId": "7415db9f-5e22-4a86-a864-8c56d44291ad"
      },
      "execution_count": 8,
      "outputs": [
        {
          "output_type": "execute_result",
          "data": {
            "text/plain": [
              "3"
            ]
          },
          "metadata": {},
          "execution_count": 8
        }
      ]
    },
    {
      "cell_type": "code",
      "source": [
        "10 % 3"
      ],
      "metadata": {
        "colab": {
          "base_uri": "https://localhost:8080/"
        },
        "id": "ik1EGK2Em_vu",
        "outputId": "7b4864f3-175f-47f6-df41-8158488ff34d"
      },
      "execution_count": 9,
      "outputs": [
        {
          "output_type": "execute_result",
          "data": {
            "text/plain": [
              "1"
            ]
          },
          "metadata": {},
          "execution_count": 9
        }
      ]
    },
    {
      "cell_type": "code",
      "source": [
        "10.2 % 3"
      ],
      "metadata": {
        "colab": {
          "base_uri": "https://localhost:8080/"
        },
        "id": "sEkGdXfBnMSR",
        "outputId": "3b2089d2-1826-477b-ed7e-beb04ef64c55"
      },
      "execution_count": 10,
      "outputs": [
        {
          "output_type": "execute_result",
          "data": {
            "text/plain": [
              "1.1999999999999993"
            ]
          },
          "metadata": {},
          "execution_count": 10
        }
      ]
    },
    {
      "cell_type": "markdown",
      "source": [
        "## 결과를 빈 상자에 넣고 재사용하기"
      ],
      "metadata": {
        "id": "vuieSq7eolJy"
      }
    },
    {
      "cell_type": "code",
      "source": [
        "x = 1\n",
        "y = 2"
      ],
      "metadata": {
        "id": "pXMOmy3dnO5_"
      },
      "execution_count": 11,
      "outputs": []
    },
    {
      "cell_type": "code",
      "source": [
        "sum = x + y"
      ],
      "metadata": {
        "id": "tHGRHO9lokce"
      },
      "execution_count": 12,
      "outputs": []
    },
    {
      "cell_type": "code",
      "source": [
        "sum"
      ],
      "metadata": {
        "colab": {
          "base_uri": "https://localhost:8080/"
        },
        "id": "pTU2mcEKpEn5",
        "outputId": "d85d2a47-30dd-48c7-9b38-3f0ae62422f2"
      },
      "execution_count": 13,
      "outputs": [
        {
          "output_type": "execute_result",
          "data": {
            "text/plain": [
              "3"
            ]
          },
          "metadata": {},
          "execution_count": 13
        }
      ]
    },
    {
      "cell_type": "markdown",
      "source": [
        "## 여러개의 숫자를 한 상자에 넣고 사용하기"
      ],
      "metadata": {
        "id": "hxYQoBFSpJMU"
      }
    },
    {
      "cell_type": "code",
      "source": [
        "rates = [1, 1.1, 1.21, 1.331, 1.4641, 1.61051]"
      ],
      "metadata": {
        "id": "0kFH7Qu_pFOz"
      },
      "execution_count": 14,
      "outputs": []
    },
    {
      "cell_type": "code",
      "source": [
        "rates"
      ],
      "metadata": {
        "colab": {
          "base_uri": "https://localhost:8080/"
        },
        "id": "UdC7wlxhpfvM",
        "outputId": "3afad9ed-6ab9-418d-9387-49d45a69ecff"
      },
      "execution_count": 15,
      "outputs": [
        {
          "output_type": "execute_result",
          "data": {
            "text/plain": [
              "[1, 1.1, 1.21, 1.331, 1.4641, 1.61051]"
            ]
          },
          "metadata": {},
          "execution_count": 15
        }
      ]
    },
    {
      "cell_type": "code",
      "source": [
        "( rates[0] + rates[3] ) / 2"
      ],
      "metadata": {
        "colab": {
          "base_uri": "https://localhost:8080/"
        },
        "id": "DQeqsRXrpjPS",
        "outputId": "354c60eb-6095-4478-fa8e-cf0a54b5fc7e"
      },
      "execution_count": 16,
      "outputs": [
        {
          "output_type": "execute_result",
          "data": {
            "text/plain": [
              "1.1655"
            ]
          },
          "metadata": {},
          "execution_count": 16
        }
      ]
    },
    {
      "cell_type": "code",
      "source": [
        "rates[-1]"
      ],
      "metadata": {
        "colab": {
          "base_uri": "https://localhost:8080/"
        },
        "id": "QHduygTuplnV",
        "outputId": "02e1448e-a888-4ae7-c647-0fadfbd9d1a0"
      },
      "execution_count": 17,
      "outputs": [
        {
          "output_type": "execute_result",
          "data": {
            "text/plain": [
              "1.61051"
            ]
          },
          "metadata": {},
          "execution_count": 17
        }
      ]
    },
    {
      "cell_type": "code",
      "source": [
        "rates.append(1.771561)"
      ],
      "metadata": {
        "id": "ihzsMlWVpo03"
      },
      "execution_count": 18,
      "outputs": []
    },
    {
      "cell_type": "code",
      "source": [
        "rates"
      ],
      "metadata": {
        "colab": {
          "base_uri": "https://localhost:8080/"
        },
        "id": "uTbXTj_Qp4z5",
        "outputId": "b70f20fa-4ef3-47e2-f299-b4287257d9e2"
      },
      "execution_count": 19,
      "outputs": [
        {
          "output_type": "execute_result",
          "data": {
            "text/plain": [
              "[1, 1.1, 1.21, 1.331, 1.4641, 1.61051, 1.771561]"
            ]
          },
          "metadata": {},
          "execution_count": 19
        }
      ]
    },
    {
      "cell_type": "markdown",
      "source": [
        "## 엑셀 if 함수 처럼 값 비교하기"
      ],
      "metadata": {
        "id": "0_SYizN8qEe0"
      }
    },
    {
      "cell_type": "code",
      "source": [
        "1 == 1"
      ],
      "metadata": {
        "colab": {
          "base_uri": "https://localhost:8080/"
        },
        "id": "k_qc72Q4p6xy",
        "outputId": "5c338f0b-3eea-489e-8898-a6b7ef983a3c"
      },
      "execution_count": 20,
      "outputs": [
        {
          "output_type": "execute_result",
          "data": {
            "text/plain": [
              "True"
            ]
          },
          "metadata": {},
          "execution_count": 20
        }
      ]
    },
    {
      "cell_type": "code",
      "source": [
        "1 == 2"
      ],
      "metadata": {
        "colab": {
          "base_uri": "https://localhost:8080/"
        },
        "id": "q8ptOFB5qNeK",
        "outputId": "6b2c4068-7acf-42ba-9f46-7d98d0c6aa48"
      },
      "execution_count": 21,
      "outputs": [
        {
          "output_type": "execute_result",
          "data": {
            "text/plain": [
              "False"
            ]
          },
          "metadata": {},
          "execution_count": 21
        }
      ]
    },
    {
      "cell_type": "code",
      "source": [
        "if 1 == 1:\n",
        "    print('이것은 참 입니다.')\n",
        "else:\n",
        "    print('이것은 참이 아닙니다.')"
      ],
      "metadata": {
        "colab": {
          "base_uri": "https://localhost:8080/"
        },
        "id": "Fz9cL_oiqPea",
        "outputId": "5d914978-eb62-4f2e-9f79-60b781c4162f"
      },
      "execution_count": 22,
      "outputs": [
        {
          "output_type": "stream",
          "name": "stdout",
          "text": [
            "이것은 참 입니다.\n"
          ]
        }
      ]
    },
    {
      "cell_type": "code",
      "source": [
        "a1 = 1.771561\n",
        "n = 4\n",
        "r = 1.1"
      ],
      "metadata": {
        "id": "WYyc09smqbAu"
      },
      "execution_count": 23,
      "outputs": []
    },
    {
      "cell_type": "code",
      "source": [
        "if r ** n == a1:\n",
        "    print(a1)\n",
        "else:\n",
        "    print(f'{r**n} 은 {a1} 과 다릅니다')"
      ],
      "metadata": {
        "colab": {
          "base_uri": "https://localhost:8080/"
        },
        "id": "zhTiv05oqjiW",
        "outputId": "b72aa562-d755-4a1a-fdad-ee2bcb063c3c"
      },
      "execution_count": 24,
      "outputs": [
        {
          "output_type": "stream",
          "name": "stdout",
          "text": [
            "1.4641000000000004 은 1.771561 과 다릅니다\n"
          ]
        }
      ]
    },
    {
      "cell_type": "markdown",
      "source": [
        "## 엑셀에서 셀 끝을 클릭 드래그 하듯이 반복하여 값을 계산하기"
      ],
      "metadata": {
        "id": "OI4VfaeVsMZ4"
      }
    },
    {
      "cell_type": "code",
      "source": [
        "pvRates = []\n",
        "r = 0.1"
      ],
      "metadata": {
        "id": "MhcS063bsMFt"
      },
      "execution_count": 25,
      "outputs": []
    },
    {
      "cell_type": "code",
      "source": [
        "for i in range(10):\n",
        "    print(i)"
      ],
      "metadata": {
        "colab": {
          "base_uri": "https://localhost:8080/"
        },
        "id": "Yc_8nmTZsuJh",
        "outputId": "a03df4f8-ab6d-4550-e25f-1dab904d8c55"
      },
      "execution_count": 26,
      "outputs": [
        {
          "output_type": "stream",
          "name": "stdout",
          "text": [
            "0\n",
            "1\n",
            "2\n",
            "3\n",
            "4\n",
            "5\n",
            "6\n",
            "7\n",
            "8\n",
            "9\n"
          ]
        }
      ]
    },
    {
      "cell_type": "code",
      "source": [
        "for i in range(10):\n",
        "    tmp = (1/ (1+r)) ** (i)\n",
        "    pvRates.append(tmp)"
      ],
      "metadata": {
        "id": "0q15RsxatMs0"
      },
      "execution_count": 27,
      "outputs": []
    },
    {
      "cell_type": "code",
      "source": [
        "pvRates"
      ],
      "metadata": {
        "colab": {
          "base_uri": "https://localhost:8080/"
        },
        "id": "gV5u8zl6tVBw",
        "outputId": "09946d57-af00-434b-9e15-a5e40b1e172d"
      },
      "execution_count": 28,
      "outputs": [
        {
          "output_type": "execute_result",
          "data": {
            "text/plain": [
              "[1.0,\n",
              " 0.9090909090909091,\n",
              " 0.8264462809917354,\n",
              " 0.7513148009015777,\n",
              " 0.6830134553650706,\n",
              " 0.620921323059155,\n",
              " 0.5644739300537773,\n",
              " 0.5131581182307067,\n",
              " 0.4665073802097333,\n",
              " 0.4240976183724848]"
            ]
          },
          "metadata": {},
          "execution_count": 28
        }
      ]
    },
    {
      "cell_type": "markdown",
      "source": [
        "## 엑셀에서 셀 끝을 클릭 드래그 하듯이 반복한 값을 다시 이용하여 반복된 값을 계산하기"
      ],
      "metadata": {
        "id": "tnTbs1ITvJYW"
      }
    },
    {
      "cell_type": "code",
      "source": [
        "rates = [0.08, 0.09, 0.1, 0.11, 0.12]\n",
        "pvRatesList = {}\n",
        "n = 10"
      ],
      "metadata": {
        "id": "L7bBuG0ptW6c"
      },
      "execution_count": 29,
      "outputs": []
    },
    {
      "cell_type": "code",
      "source": [
        "for r in rates:\n",
        "    tmpList = []\n",
        "    for i in range(n):\n",
        "        tmp = (1/ (1+r)) ** (i)\n",
        "        tmpList.append(tmp)\n",
        "    pvRatesList[r] = tmpList"
      ],
      "metadata": {
        "id": "vE0hNHWUvZlh"
      },
      "execution_count": 30,
      "outputs": []
    },
    {
      "cell_type": "code",
      "source": [
        "pvRatesList"
      ],
      "metadata": {
        "colab": {
          "base_uri": "https://localhost:8080/"
        },
        "id": "HC3LsGGvvsxs",
        "outputId": "751784a4-1d5e-4b0a-8f1d-aab0f8adeb84"
      },
      "execution_count": 31,
      "outputs": [
        {
          "output_type": "execute_result",
          "data": {
            "text/plain": [
              "{0.08: [1.0,\n",
              "  0.9259259259259258,\n",
              "  0.8573388203017831,\n",
              "  0.7938322410201694,\n",
              "  0.735029852796453,\n",
              "  0.6805831970337528,\n",
              "  0.6301696268831043,\n",
              "  0.5834903952621335,\n",
              "  0.5402688845019755,\n",
              "  0.5002489671314587],\n",
              " 0.09: [1.0,\n",
              "  0.9174311926605504,\n",
              "  0.84167999326656,\n",
              "  0.7721834800610641,\n",
              "  0.7084252110651964,\n",
              "  0.6499313862983452,\n",
              "  0.5962673268792158,\n",
              "  0.5470342448433172,\n",
              "  0.5018662796727681,\n",
              "  0.46042777951630093],\n",
              " 0.1: [1.0,\n",
              "  0.9090909090909091,\n",
              "  0.8264462809917354,\n",
              "  0.7513148009015777,\n",
              "  0.6830134553650706,\n",
              "  0.620921323059155,\n",
              "  0.5644739300537773,\n",
              "  0.5131581182307067,\n",
              "  0.4665073802097333,\n",
              "  0.4240976183724848],\n",
              " 0.11: [1.0,\n",
              "  0.9009009009009008,\n",
              "  0.8116224332440547,\n",
              "  0.7311913813009501,\n",
              "  0.658730974145,\n",
              "  0.5934513280585585,\n",
              "  0.5346408360887914,\n",
              "  0.481658410890803,\n",
              "  0.43392649629802066,\n",
              "  0.3909247714396582],\n",
              " 0.12: [1.0,\n",
              "  0.8928571428571428,\n",
              "  0.7971938775510203,\n",
              "  0.711780247813411,\n",
              "  0.6355180784048311,\n",
              "  0.5674268557185992,\n",
              "  0.5066311211773207,\n",
              "  0.45234921533689343,\n",
              "  0.4038832279793691,\n",
              "  0.3606100249815795]}"
            ]
          },
          "metadata": {},
          "execution_count": 31
        }
      ]
    },
    {
      "cell_type": "code",
      "source": [],
      "metadata": {
        "id": "tSiqSX1Tvzq6"
      },
      "execution_count": 31,
      "outputs": []
    }
  ]
}