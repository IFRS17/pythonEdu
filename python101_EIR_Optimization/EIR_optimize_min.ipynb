{
  "nbformat": 4,
  "nbformat_minor": 0,
  "metadata": {
    "colab": {
      "provenance": []
    },
    "kernelspec": {
      "name": "python3",
      "display_name": "Python 3"
    },
    "language_info": {
      "name": "python"
    }
  },
  "cells": [
    {
      "cell_type": "markdown",
      "source": [
        "# EIR 해찾기\n",
        " - 주어진 임의의 현가계수, 기간, 현금흐름에 대한 최적 EIR 계산하기\n",
        " - 해당 보험금의 금융손익을 계산하기 위함 ",
        " - 분기 금융손익 = Δ부채 = 현가금액 * (1+계산된 EIR) ^ (3/12)"
      ],
      "metadata": {
        "id": "qjkJXOa187B_"
      }
    },
    {
      "cell_type": "markdown",
      "source": [
        "## 파일 로드 및 해찾기 준비"
      ],
      "metadata": {
        "id": "2kIJYzD172sY"
      }
    },
    {
      "cell_type": "code",
      "source": [
        "import pandas\n",
        "import scipy.optimize\n",
        "import numpy as np"
      ],
      "metadata": {
        "id": "fPTFDVftRqs8"
      },
      "execution_count": null,
      "outputs": []
    },
    {
      "cell_type": "code",
      "source": [
        "df = pandas.read_excel('/content/drive/MyDrive/EIR찾기.xlsx', header=1)"
      ],
      "metadata": {
        "id": "fO6T7O7ARu-K"
      },
      "execution_count": null,
      "outputs": []
    },
    {
      "cell_type": "code",
      "source": [
        "df"
      ],
      "metadata": {
        "colab": {
          "base_uri": "https://localhost:8080/",
          "height": 424
        },
        "id": "2b_NV94URyNx",
        "outputId": "7b1c180e-ee87-4c90-c1f0-340ca57b4dd9"
      },
      "execution_count": null,
      "outputs": [
        {
          "output_type": "execute_result",
          "data": {
            "text/plain": [
              "        경과회차       할인율  Unnamed: 2  경과회차.1        in      out  Unnamed: 6  \\\n",
              "0        1.0  0.009232         NaN     1.0  100000.0  80000.0         NaN   \n",
              "1        2.0  0.009521         NaN     2.0  100000.0  80000.0         NaN   \n",
              "2        3.0  0.009957         NaN     3.0  100000.0  80000.0         NaN   \n",
              "3        4.0  0.010503         NaN     4.0  100000.0  80000.0         NaN   \n",
              "4        5.0  0.011033         NaN     5.0  100000.0  80000.0         NaN   \n",
              "...      ...       ...         ...     ...       ...      ...         ...   \n",
              "1196  1197.0  0.042777         NaN     NaN       NaN      NaN         NaN   \n",
              "1197  1198.0  0.042783         NaN     NaN       NaN      NaN         NaN   \n",
              "1198  1199.0  0.042788         NaN     NaN       NaN      NaN         NaN   \n",
              "1199  1200.0  0.042794         NaN     NaN       NaN      NaN         NaN   \n",
              "1200  1201.0  0.042799         NaN     NaN       NaN      NaN         NaN   \n",
              "\n",
              "         명목금액  현가금액(curve)    현가금액(EIR)  Unnamed: 10  Unnamed: 11  \n",
              "0    -20000.0 -19984.68950 -19934.73885          NaN          NaN  \n",
              "1    -20000.0 -19968.43917 -19869.69066          NaN          NaN  \n",
              "2    -20000.0 -19950.52270 -19804.85471          NaN          NaN  \n",
              "3    -20000.0 -19930.46678 -19740.23034          NaN          NaN  \n",
              "4    -20000.0 -19908.76732 -19675.81683          NaN          NaN  \n",
              "...       ...          ...          ...          ...          ...  \n",
              "1196      NaN          NaN          NaN          NaN          NaN  \n",
              "1197      NaN          NaN          NaN          NaN          NaN  \n",
              "1198      NaN          NaN          NaN          NaN          NaN  \n",
              "1199      NaN          NaN          NaN          NaN          NaN  \n",
              "1200      NaN          NaN          NaN          NaN          NaN  \n",
              "\n",
              "[1201 rows x 12 columns]"
            ],
            "text/html": [
              "\n",
              "  <div id=\"df-894c1494-d213-4fb1-9a02-72bfdb4c85c2\">\n",
              "    <div class=\"colab-df-container\">\n",
              "      <div>\n",
              "<style scoped>\n",
              "    .dataframe tbody tr th:only-of-type {\n",
              "        vertical-align: middle;\n",
              "    }\n",
              "\n",
              "    .dataframe tbody tr th {\n",
              "        vertical-align: top;\n",
              "    }\n",
              "\n",
              "    .dataframe thead th {\n",
              "        text-align: right;\n",
              "    }\n",
              "</style>\n",
              "<table border=\"1\" class=\"dataframe\">\n",
              "  <thead>\n",
              "    <tr style=\"text-align: right;\">\n",
              "      <th></th>\n",
              "      <th>경과회차</th>\n",
              "      <th>할인율</th>\n",
              "      <th>Unnamed: 2</th>\n",
              "      <th>경과회차.1</th>\n",
              "      <th>in</th>\n",
              "      <th>out</th>\n",
              "      <th>Unnamed: 6</th>\n",
              "      <th>명목금액</th>\n",
              "      <th>현가금액(curve)</th>\n",
              "      <th>현가금액(EIR)</th>\n",
              "      <th>Unnamed: 10</th>\n",
              "      <th>Unnamed: 11</th>\n",
              "    </tr>\n",
              "  </thead>\n",
              "  <tbody>\n",
              "    <tr>\n",
              "      <th>0</th>\n",
              "      <td>1.0</td>\n",
              "      <td>0.009232</td>\n",
              "      <td>NaN</td>\n",
              "      <td>1.0</td>\n",
              "      <td>100000.0</td>\n",
              "      <td>80000.0</td>\n",
              "      <td>NaN</td>\n",
              "      <td>-20000.0</td>\n",
              "      <td>-19984.68950</td>\n",
              "      <td>-19934.73885</td>\n",
              "      <td>NaN</td>\n",
              "      <td>NaN</td>\n",
              "    </tr>\n",
              "    <tr>\n",
              "      <th>1</th>\n",
              "      <td>2.0</td>\n",
              "      <td>0.009521</td>\n",
              "      <td>NaN</td>\n",
              "      <td>2.0</td>\n",
              "      <td>100000.0</td>\n",
              "      <td>80000.0</td>\n",
              "      <td>NaN</td>\n",
              "      <td>-20000.0</td>\n",
              "      <td>-19968.43917</td>\n",
              "      <td>-19869.69066</td>\n",
              "      <td>NaN</td>\n",
              "      <td>NaN</td>\n",
              "    </tr>\n",
              "    <tr>\n",
              "      <th>2</th>\n",
              "      <td>3.0</td>\n",
              "      <td>0.009957</td>\n",
              "      <td>NaN</td>\n",
              "      <td>3.0</td>\n",
              "      <td>100000.0</td>\n",
              "      <td>80000.0</td>\n",
              "      <td>NaN</td>\n",
              "      <td>-20000.0</td>\n",
              "      <td>-19950.52270</td>\n",
              "      <td>-19804.85471</td>\n",
              "      <td>NaN</td>\n",
              "      <td>NaN</td>\n",
              "    </tr>\n",
              "    <tr>\n",
              "      <th>3</th>\n",
              "      <td>4.0</td>\n",
              "      <td>0.010503</td>\n",
              "      <td>NaN</td>\n",
              "      <td>4.0</td>\n",
              "      <td>100000.0</td>\n",
              "      <td>80000.0</td>\n",
              "      <td>NaN</td>\n",
              "      <td>-20000.0</td>\n",
              "      <td>-19930.46678</td>\n",
              "      <td>-19740.23034</td>\n",
              "      <td>NaN</td>\n",
              "      <td>NaN</td>\n",
              "    </tr>\n",
              "    <tr>\n",
              "      <th>4</th>\n",
              "      <td>5.0</td>\n",
              "      <td>0.011033</td>\n",
              "      <td>NaN</td>\n",
              "      <td>5.0</td>\n",
              "      <td>100000.0</td>\n",
              "      <td>80000.0</td>\n",
              "      <td>NaN</td>\n",
              "      <td>-20000.0</td>\n",
              "      <td>-19908.76732</td>\n",
              "      <td>-19675.81683</td>\n",
              "      <td>NaN</td>\n",
              "      <td>NaN</td>\n",
              "    </tr>\n",
              "    <tr>\n",
              "      <th>...</th>\n",
              "      <td>...</td>\n",
              "      <td>...</td>\n",
              "      <td>...</td>\n",
              "      <td>...</td>\n",
              "      <td>...</td>\n",
              "      <td>...</td>\n",
              "      <td>...</td>\n",
              "      <td>...</td>\n",
              "      <td>...</td>\n",
              "      <td>...</td>\n",
              "      <td>...</td>\n",
              "      <td>...</td>\n",
              "    </tr>\n",
              "    <tr>\n",
              "      <th>1196</th>\n",
              "      <td>1197.0</td>\n",
              "      <td>0.042777</td>\n",
              "      <td>NaN</td>\n",
              "      <td>NaN</td>\n",
              "      <td>NaN</td>\n",
              "      <td>NaN</td>\n",
              "      <td>NaN</td>\n",
              "      <td>NaN</td>\n",
              "      <td>NaN</td>\n",
              "      <td>NaN</td>\n",
              "      <td>NaN</td>\n",
              "      <td>NaN</td>\n",
              "    </tr>\n",
              "    <tr>\n",
              "      <th>1197</th>\n",
              "      <td>1198.0</td>\n",
              "      <td>0.042783</td>\n",
              "      <td>NaN</td>\n",
              "      <td>NaN</td>\n",
              "      <td>NaN</td>\n",
              "      <td>NaN</td>\n",
              "      <td>NaN</td>\n",
              "      <td>NaN</td>\n",
              "      <td>NaN</td>\n",
              "      <td>NaN</td>\n",
              "      <td>NaN</td>\n",
              "      <td>NaN</td>\n",
              "    </tr>\n",
              "    <tr>\n",
              "      <th>1198</th>\n",
              "      <td>1199.0</td>\n",
              "      <td>0.042788</td>\n",
              "      <td>NaN</td>\n",
              "      <td>NaN</td>\n",
              "      <td>NaN</td>\n",
              "      <td>NaN</td>\n",
              "      <td>NaN</td>\n",
              "      <td>NaN</td>\n",
              "      <td>NaN</td>\n",
              "      <td>NaN</td>\n",
              "      <td>NaN</td>\n",
              "      <td>NaN</td>\n",
              "    </tr>\n",
              "    <tr>\n",
              "      <th>1199</th>\n",
              "      <td>1200.0</td>\n",
              "      <td>0.042794</td>\n",
              "      <td>NaN</td>\n",
              "      <td>NaN</td>\n",
              "      <td>NaN</td>\n",
              "      <td>NaN</td>\n",
              "      <td>NaN</td>\n",
              "      <td>NaN</td>\n",
              "      <td>NaN</td>\n",
              "      <td>NaN</td>\n",
              "      <td>NaN</td>\n",
              "      <td>NaN</td>\n",
              "    </tr>\n",
              "    <tr>\n",
              "      <th>1200</th>\n",
              "      <td>1201.0</td>\n",
              "      <td>0.042799</td>\n",
              "      <td>NaN</td>\n",
              "      <td>NaN</td>\n",
              "      <td>NaN</td>\n",
              "      <td>NaN</td>\n",
              "      <td>NaN</td>\n",
              "      <td>NaN</td>\n",
              "      <td>NaN</td>\n",
              "      <td>NaN</td>\n",
              "      <td>NaN</td>\n",
              "      <td>NaN</td>\n",
              "    </tr>\n",
              "  </tbody>\n",
              "</table>\n",
              "<p>1201 rows × 12 columns</p>\n",
              "</div>\n",
              "      <button class=\"colab-df-convert\" onclick=\"convertToInteractive('df-894c1494-d213-4fb1-9a02-72bfdb4c85c2')\"\n",
              "              title=\"Convert this dataframe to an interactive table.\"\n",
              "              style=\"display:none;\">\n",
              "        \n",
              "  <svg xmlns=\"http://www.w3.org/2000/svg\" height=\"24px\"viewBox=\"0 0 24 24\"\n",
              "       width=\"24px\">\n",
              "    <path d=\"M0 0h24v24H0V0z\" fill=\"none\"/>\n",
              "    <path d=\"M18.56 5.44l.94 2.06.94-2.06 2.06-.94-2.06-.94-.94-2.06-.94 2.06-2.06.94zm-11 1L8.5 8.5l.94-2.06 2.06-.94-2.06-.94L8.5 2.5l-.94 2.06-2.06.94zm10 10l.94 2.06.94-2.06 2.06-.94-2.06-.94-.94-2.06-.94 2.06-2.06.94z\"/><path d=\"M17.41 7.96l-1.37-1.37c-.4-.4-.92-.59-1.43-.59-.52 0-1.04.2-1.43.59L10.3 9.45l-7.72 7.72c-.78.78-.78 2.05 0 2.83L4 21.41c.39.39.9.59 1.41.59.51 0 1.02-.2 1.41-.59l7.78-7.78 2.81-2.81c.8-.78.8-2.07 0-2.86zM5.41 20L4 18.59l7.72-7.72 1.47 1.35L5.41 20z\"/>\n",
              "  </svg>\n",
              "      </button>\n",
              "      \n",
              "  <style>\n",
              "    .colab-df-container {\n",
              "      display:flex;\n",
              "      flex-wrap:wrap;\n",
              "      gap: 12px;\n",
              "    }\n",
              "\n",
              "    .colab-df-convert {\n",
              "      background-color: #E8F0FE;\n",
              "      border: none;\n",
              "      border-radius: 50%;\n",
              "      cursor: pointer;\n",
              "      display: none;\n",
              "      fill: #1967D2;\n",
              "      height: 32px;\n",
              "      padding: 0 0 0 0;\n",
              "      width: 32px;\n",
              "    }\n",
              "\n",
              "    .colab-df-convert:hover {\n",
              "      background-color: #E2EBFA;\n",
              "      box-shadow: 0px 1px 2px rgba(60, 64, 67, 0.3), 0px 1px 3px 1px rgba(60, 64, 67, 0.15);\n",
              "      fill: #174EA6;\n",
              "    }\n",
              "\n",
              "    [theme=dark] .colab-df-convert {\n",
              "      background-color: #3B4455;\n",
              "      fill: #D2E3FC;\n",
              "    }\n",
              "\n",
              "    [theme=dark] .colab-df-convert:hover {\n",
              "      background-color: #434B5C;\n",
              "      box-shadow: 0px 1px 3px 1px rgba(0, 0, 0, 0.15);\n",
              "      filter: drop-shadow(0px 1px 2px rgba(0, 0, 0, 0.3));\n",
              "      fill: #FFFFFF;\n",
              "    }\n",
              "  </style>\n",
              "\n",
              "      <script>\n",
              "        const buttonEl =\n",
              "          document.querySelector('#df-894c1494-d213-4fb1-9a02-72bfdb4c85c2 button.colab-df-convert');\n",
              "        buttonEl.style.display =\n",
              "          google.colab.kernel.accessAllowed ? 'block' : 'none';\n",
              "\n",
              "        async function convertToInteractive(key) {\n",
              "          const element = document.querySelector('#df-894c1494-d213-4fb1-9a02-72bfdb4c85c2');\n",
              "          const dataTable =\n",
              "            await google.colab.kernel.invokeFunction('convertToInteractive',\n",
              "                                                     [key], {});\n",
              "          if (!dataTable) return;\n",
              "\n",
              "          const docLinkHtml = 'Like what you see? Visit the ' +\n",
              "            '<a target=\"_blank\" href=https://colab.research.google.com/notebooks/data_table.ipynb>data table notebook</a>'\n",
              "            + ' to learn more about interactive tables.';\n",
              "          element.innerHTML = '';\n",
              "          dataTable['output_type'] = 'display_data';\n",
              "          await google.colab.output.renderOutput(dataTable, element);\n",
              "          const docLink = document.createElement('div');\n",
              "          docLink.innerHTML = docLinkHtml;\n",
              "          element.appendChild(docLink);\n",
              "        }\n",
              "      </script>\n",
              "    </div>\n",
              "  </div>\n",
              "  "
            ]
          },
          "metadata": {},
          "execution_count": 99
        }
      ]
    },
    {
      "cell_type": "code",
      "source": [
        "df.columns"
      ],
      "metadata": {
        "colab": {
          "base_uri": "https://localhost:8080/"
        },
        "id": "IvghDV5kR1Fn",
        "outputId": "a9e24190-e920-4cdf-bf6e-be0d50adaa7e"
      },
      "execution_count": null,
      "outputs": [
        {
          "output_type": "execute_result",
          "data": {
            "text/plain": [
              "Index(['경과회차', '할인율', 'Unnamed: 2', '경과회차.1', 'in', 'out', 'Unnamed: 6',\n",
              "       '명목금액', '현가금액(curve)', '현가금액(EIR)', 'Unnamed: 10', 'Unnamed: 11'],\n",
              "      dtype='object')"
            ]
          },
          "metadata": {},
          "execution_count": 100
        }
      ]
    },
    {
      "cell_type": "code",
      "source": [
        "df = df[['경과회차', '할인율', '경과회차.1', 'in', 'out', '명목금액', '현가금액(curve)', '현가금액(EIR)']]"
      ],
      "metadata": {
        "id": "Ma8DS3ttSADJ"
      },
      "execution_count": null,
      "outputs": []
    },
    {
      "cell_type": "code",
      "source": [
        "df"
      ],
      "metadata": {
        "colab": {
          "base_uri": "https://localhost:8080/",
          "height": 424
        },
        "id": "nxtCMsEpx9xZ",
        "outputId": "8418c052-1e45-431f-b623-1271dabffe6b"
      },
      "execution_count": null,
      "outputs": [
        {
          "output_type": "execute_result",
          "data": {
            "text/plain": [
              "        경과회차       할인율  경과회차.1        in      out     명목금액  현가금액(curve)  \\\n",
              "0        1.0  0.009232     1.0  100000.0  80000.0 -20000.0 -19984.68950   \n",
              "1        2.0  0.009521     2.0  100000.0  80000.0 -20000.0 -19968.43917   \n",
              "2        3.0  0.009957     3.0  100000.0  80000.0 -20000.0 -19950.52270   \n",
              "3        4.0  0.010503     4.0  100000.0  80000.0 -20000.0 -19930.46678   \n",
              "4        5.0  0.011033     5.0  100000.0  80000.0 -20000.0 -19908.76732   \n",
              "...      ...       ...     ...       ...      ...      ...          ...   \n",
              "1196  1197.0  0.042777     NaN       NaN      NaN      NaN          NaN   \n",
              "1197  1198.0  0.042783     NaN       NaN      NaN      NaN          NaN   \n",
              "1198  1199.0  0.042788     NaN       NaN      NaN      NaN          NaN   \n",
              "1199  1200.0  0.042794     NaN       NaN      NaN      NaN          NaN   \n",
              "1200  1201.0  0.042799     NaN       NaN      NaN      NaN          NaN   \n",
              "\n",
              "        현가금액(EIR)  \n",
              "0    -19934.73885  \n",
              "1    -19869.69066  \n",
              "2    -19804.85471  \n",
              "3    -19740.23034  \n",
              "4    -19675.81683  \n",
              "...           ...  \n",
              "1196          NaN  \n",
              "1197          NaN  \n",
              "1198          NaN  \n",
              "1199          NaN  \n",
              "1200          NaN  \n",
              "\n",
              "[1201 rows x 8 columns]"
            ],
            "text/html": [
              "\n",
              "  <div id=\"df-6d7a61b0-603f-4be4-a44f-d49385a3701c\">\n",
              "    <div class=\"colab-df-container\">\n",
              "      <div>\n",
              "<style scoped>\n",
              "    .dataframe tbody tr th:only-of-type {\n",
              "        vertical-align: middle;\n",
              "    }\n",
              "\n",
              "    .dataframe tbody tr th {\n",
              "        vertical-align: top;\n",
              "    }\n",
              "\n",
              "    .dataframe thead th {\n",
              "        text-align: right;\n",
              "    }\n",
              "</style>\n",
              "<table border=\"1\" class=\"dataframe\">\n",
              "  <thead>\n",
              "    <tr style=\"text-align: right;\">\n",
              "      <th></th>\n",
              "      <th>경과회차</th>\n",
              "      <th>할인율</th>\n",
              "      <th>경과회차.1</th>\n",
              "      <th>in</th>\n",
              "      <th>out</th>\n",
              "      <th>명목금액</th>\n",
              "      <th>현가금액(curve)</th>\n",
              "      <th>현가금액(EIR)</th>\n",
              "    </tr>\n",
              "  </thead>\n",
              "  <tbody>\n",
              "    <tr>\n",
              "      <th>0</th>\n",
              "      <td>1.0</td>\n",
              "      <td>0.009232</td>\n",
              "      <td>1.0</td>\n",
              "      <td>100000.0</td>\n",
              "      <td>80000.0</td>\n",
              "      <td>-20000.0</td>\n",
              "      <td>-19984.68950</td>\n",
              "      <td>-19934.73885</td>\n",
              "    </tr>\n",
              "    <tr>\n",
              "      <th>1</th>\n",
              "      <td>2.0</td>\n",
              "      <td>0.009521</td>\n",
              "      <td>2.0</td>\n",
              "      <td>100000.0</td>\n",
              "      <td>80000.0</td>\n",
              "      <td>-20000.0</td>\n",
              "      <td>-19968.43917</td>\n",
              "      <td>-19869.69066</td>\n",
              "    </tr>\n",
              "    <tr>\n",
              "      <th>2</th>\n",
              "      <td>3.0</td>\n",
              "      <td>0.009957</td>\n",
              "      <td>3.0</td>\n",
              "      <td>100000.0</td>\n",
              "      <td>80000.0</td>\n",
              "      <td>-20000.0</td>\n",
              "      <td>-19950.52270</td>\n",
              "      <td>-19804.85471</td>\n",
              "    </tr>\n",
              "    <tr>\n",
              "      <th>3</th>\n",
              "      <td>4.0</td>\n",
              "      <td>0.010503</td>\n",
              "      <td>4.0</td>\n",
              "      <td>100000.0</td>\n",
              "      <td>80000.0</td>\n",
              "      <td>-20000.0</td>\n",
              "      <td>-19930.46678</td>\n",
              "      <td>-19740.23034</td>\n",
              "    </tr>\n",
              "    <tr>\n",
              "      <th>4</th>\n",
              "      <td>5.0</td>\n",
              "      <td>0.011033</td>\n",
              "      <td>5.0</td>\n",
              "      <td>100000.0</td>\n",
              "      <td>80000.0</td>\n",
              "      <td>-20000.0</td>\n",
              "      <td>-19908.76732</td>\n",
              "      <td>-19675.81683</td>\n",
              "    </tr>\n",
              "    <tr>\n",
              "      <th>...</th>\n",
              "      <td>...</td>\n",
              "      <td>...</td>\n",
              "      <td>...</td>\n",
              "      <td>...</td>\n",
              "      <td>...</td>\n",
              "      <td>...</td>\n",
              "      <td>...</td>\n",
              "      <td>...</td>\n",
              "    </tr>\n",
              "    <tr>\n",
              "      <th>1196</th>\n",
              "      <td>1197.0</td>\n",
              "      <td>0.042777</td>\n",
              "      <td>NaN</td>\n",
              "      <td>NaN</td>\n",
              "      <td>NaN</td>\n",
              "      <td>NaN</td>\n",
              "      <td>NaN</td>\n",
              "      <td>NaN</td>\n",
              "    </tr>\n",
              "    <tr>\n",
              "      <th>1197</th>\n",
              "      <td>1198.0</td>\n",
              "      <td>0.042783</td>\n",
              "      <td>NaN</td>\n",
              "      <td>NaN</td>\n",
              "      <td>NaN</td>\n",
              "      <td>NaN</td>\n",
              "      <td>NaN</td>\n",
              "      <td>NaN</td>\n",
              "    </tr>\n",
              "    <tr>\n",
              "      <th>1198</th>\n",
              "      <td>1199.0</td>\n",
              "      <td>0.042788</td>\n",
              "      <td>NaN</td>\n",
              "      <td>NaN</td>\n",
              "      <td>NaN</td>\n",
              "      <td>NaN</td>\n",
              "      <td>NaN</td>\n",
              "      <td>NaN</td>\n",
              "    </tr>\n",
              "    <tr>\n",
              "      <th>1199</th>\n",
              "      <td>1200.0</td>\n",
              "      <td>0.042794</td>\n",
              "      <td>NaN</td>\n",
              "      <td>NaN</td>\n",
              "      <td>NaN</td>\n",
              "      <td>NaN</td>\n",
              "      <td>NaN</td>\n",
              "      <td>NaN</td>\n",
              "    </tr>\n",
              "    <tr>\n",
              "      <th>1200</th>\n",
              "      <td>1201.0</td>\n",
              "      <td>0.042799</td>\n",
              "      <td>NaN</td>\n",
              "      <td>NaN</td>\n",
              "      <td>NaN</td>\n",
              "      <td>NaN</td>\n",
              "      <td>NaN</td>\n",
              "      <td>NaN</td>\n",
              "    </tr>\n",
              "  </tbody>\n",
              "</table>\n",
              "<p>1201 rows × 8 columns</p>\n",
              "</div>\n",
              "      <button class=\"colab-df-convert\" onclick=\"convertToInteractive('df-6d7a61b0-603f-4be4-a44f-d49385a3701c')\"\n",
              "              title=\"Convert this dataframe to an interactive table.\"\n",
              "              style=\"display:none;\">\n",
              "        \n",
              "  <svg xmlns=\"http://www.w3.org/2000/svg\" height=\"24px\"viewBox=\"0 0 24 24\"\n",
              "       width=\"24px\">\n",
              "    <path d=\"M0 0h24v24H0V0z\" fill=\"none\"/>\n",
              "    <path d=\"M18.56 5.44l.94 2.06.94-2.06 2.06-.94-2.06-.94-.94-2.06-.94 2.06-2.06.94zm-11 1L8.5 8.5l.94-2.06 2.06-.94-2.06-.94L8.5 2.5l-.94 2.06-2.06.94zm10 10l.94 2.06.94-2.06 2.06-.94-2.06-.94-.94-2.06-.94 2.06-2.06.94z\"/><path d=\"M17.41 7.96l-1.37-1.37c-.4-.4-.92-.59-1.43-.59-.52 0-1.04.2-1.43.59L10.3 9.45l-7.72 7.72c-.78.78-.78 2.05 0 2.83L4 21.41c.39.39.9.59 1.41.59.51 0 1.02-.2 1.41-.59l7.78-7.78 2.81-2.81c.8-.78.8-2.07 0-2.86zM5.41 20L4 18.59l7.72-7.72 1.47 1.35L5.41 20z\"/>\n",
              "  </svg>\n",
              "      </button>\n",
              "      \n",
              "  <style>\n",
              "    .colab-df-container {\n",
              "      display:flex;\n",
              "      flex-wrap:wrap;\n",
              "      gap: 12px;\n",
              "    }\n",
              "\n",
              "    .colab-df-convert {\n",
              "      background-color: #E8F0FE;\n",
              "      border: none;\n",
              "      border-radius: 50%;\n",
              "      cursor: pointer;\n",
              "      display: none;\n",
              "      fill: #1967D2;\n",
              "      height: 32px;\n",
              "      padding: 0 0 0 0;\n",
              "      width: 32px;\n",
              "    }\n",
              "\n",
              "    .colab-df-convert:hover {\n",
              "      background-color: #E2EBFA;\n",
              "      box-shadow: 0px 1px 2px rgba(60, 64, 67, 0.3), 0px 1px 3px 1px rgba(60, 64, 67, 0.15);\n",
              "      fill: #174EA6;\n",
              "    }\n",
              "\n",
              "    [theme=dark] .colab-df-convert {\n",
              "      background-color: #3B4455;\n",
              "      fill: #D2E3FC;\n",
              "    }\n",
              "\n",
              "    [theme=dark] .colab-df-convert:hover {\n",
              "      background-color: #434B5C;\n",
              "      box-shadow: 0px 1px 3px 1px rgba(0, 0, 0, 0.15);\n",
              "      filter: drop-shadow(0px 1px 2px rgba(0, 0, 0, 0.3));\n",
              "      fill: #FFFFFF;\n",
              "    }\n",
              "  </style>\n",
              "\n",
              "      <script>\n",
              "        const buttonEl =\n",
              "          document.querySelector('#df-6d7a61b0-603f-4be4-a44f-d49385a3701c button.colab-df-convert');\n",
              "        buttonEl.style.display =\n",
              "          google.colab.kernel.accessAllowed ? 'block' : 'none';\n",
              "\n",
              "        async function convertToInteractive(key) {\n",
              "          const element = document.querySelector('#df-6d7a61b0-603f-4be4-a44f-d49385a3701c');\n",
              "          const dataTable =\n",
              "            await google.colab.kernel.invokeFunction('convertToInteractive',\n",
              "                                                     [key], {});\n",
              "          if (!dataTable) return;\n",
              "\n",
              "          const docLinkHtml = 'Like what you see? Visit the ' +\n",
              "            '<a target=\"_blank\" href=https://colab.research.google.com/notebooks/data_table.ipynb>data table notebook</a>'\n",
              "            + ' to learn more about interactive tables.';\n",
              "          element.innerHTML = '';\n",
              "          dataTable['output_type'] = 'display_data';\n",
              "          await google.colab.output.renderOutput(dataTable, element);\n",
              "          const docLink = document.createElement('div');\n",
              "          docLink.innerHTML = docLinkHtml;\n",
              "          element.appendChild(docLink);\n",
              "        }\n",
              "      </script>\n",
              "    </div>\n",
              "  </div>\n",
              "  "
            ]
          },
          "metadata": {},
          "execution_count": 102
        }
      ]
    },
    {
      "cell_type": "code",
      "source": [
        "targetDebt = df['현가금액(curve)'].sum()"
      ],
      "metadata": {
        "id": "1FlhEIPeSGHX"
      },
      "execution_count": null,
      "outputs": []
    },
    {
      "cell_type": "code",
      "source": [
        "targetDebt"
      ],
      "metadata": {
        "colab": {
          "base_uri": "https://localhost:8080/"
        },
        "id": "zrle0zd8cfZs",
        "outputId": "deacd379-5dd5-4f21-aa56-45c575be6443"
      },
      "execution_count": null,
      "outputs": [
        {
          "output_type": "execute_result",
          "data": {
            "text/plain": [
              "-3706654.083779"
            ]
          },
          "metadata": {},
          "execution_count": 104
        }
      ]
    },
    {
      "cell_type": "markdown",
      "source": [
        "## 해찾기 scipy.optimize.fsolve, scipy.optimize.newton\n",
        " - 잘 안됨, 공식문서에서 옛날 함수라고 비추함"
      ],
      "metadata": {
        "id": "m4FokEkE7qbk"
      }
    },
    {
      "cell_type": "code",
      "source": [
        "func = lambda eir: (df['명목금액'].fillna(0) / (1 + eir) ** (df['경과회차'] / 12)).sum() - targetDebt"
      ],
      "metadata": {
        "id": "gSdm2hU6UrBt"
      },
      "execution_count": null,
      "outputs": []
    },
    {
      "cell_type": "code",
      "source": [
        "x1 = scipy.optimize.fsolve(func, x0=0, full_output=True)"
      ],
      "metadata": {
        "id": "VGyeUFr3Uzrl"
      },
      "execution_count": null,
      "outputs": []
    },
    {
      "cell_type": "code",
      "source": [
        "x1"
      ],
      "metadata": {
        "colab": {
          "base_uri": "https://localhost:8080/"
        },
        "id": "z87gO9gkViBz",
        "outputId": "32409724-79b3-4294-def4-054ca2c1f5f9"
      },
      "execution_count": null,
      "outputs": [
        {
          "output_type": "execute_result",
          "data": {
            "text/plain": [
              "(array([0.04480662]),\n",
              " {'nfev': 43,\n",
              "  'fjac': array([[-1.]]),\n",
              "  'r': array([-41860.94130419]),\n",
              "  'qtf': array([-645326.47442761]),\n",
              "  'fvec': 645326.2646532347},\n",
              " 5,\n",
              " 'The iteration is not making good progress, as measured by the \\n  improvement from the last ten iterations.')"
            ]
          },
          "metadata": {},
          "execution_count": 107
        }
      ]
    },
    {
      "cell_type": "code",
      "source": [
        "x2 = scipy.optimize.newton(func, tol=0.00001, x0=0, maxiter=10000, full_output=True, disp=True)"
      ],
      "metadata": {
        "id": "Io35g-nmb8X0"
      },
      "execution_count": null,
      "outputs": []
    },
    {
      "cell_type": "code",
      "source": [
        "x2"
      ],
      "metadata": {
        "id": "kF0qoPABcTIu",
        "colab": {
          "base_uri": "https://localhost:8080/"
        },
        "outputId": "3750f85d-7a1a-4cb5-daa3-a9513073ad5e"
      },
      "execution_count": null,
      "outputs": [
        {
          "output_type": "execute_result",
          "data": {
            "text/plain": [
              "(0.28865025650309134,       converged: True\n",
              "            flag: 'converged'\n",
              "  function_calls: 17\n",
              "      iterations: 16\n",
              "            root: 0.28865025650309134)"
            ]
          },
          "metadata": {},
          "execution_count": 163
        }
      ]
    },
    {
      "cell_type": "markdown",
      "source": [
        "## 해찾기 scipy.optimize.minimize\n",
        " - 잘 됨, https://docs.scipy.org/doc/scipy/reference/generated/scipy.optimize.minimize.html\n",
        " - `method='Newton-CG'` 를 넣으면 잘 안됨\n",
        "\n",
        "> If not given, chosen to be one of BFGS, L-BFGS-B, SLSQP, depending on whether or not the problem has constraints or bounds."
      ],
      "metadata": {
        "id": "D9owLY5L8Ast"
      }
    },
    {
      "cell_type": "code",
      "source": [
        "x3 = scipy.optimize.minimize(\n",
        "    func\n",
        "    , x0=0\n",
        "    # , method='Newton-CG'\n",
        "    , options={'maxiter': 10000, 'disp': True, 'return_all': True})"
      ],
      "metadata": {
        "colab": {
          "base_uri": "https://localhost:8080/"
        },
        "id": "m_kMDaVjd7xH",
        "outputId": "a7ef0777-4ae1-47de-b441-7237c249bd45"
      },
      "execution_count": null,
      "outputs": [
        {
          "output_type": "stream",
          "name": "stdout",
          "text": [
            "Warning: Desired error not necessarily achieved due to precision loss.\n",
            "         Current function value: 645326.231506\n",
            "         Iterations: 4\n",
            "         Function evaluations: 38\n",
            "         Gradient evaluations: 19\n"
          ]
        }
      ]
    },
    {
      "cell_type": "code",
      "source": [
        "x3"
      ],
      "metadata": {
        "colab": {
          "base_uri": "https://localhost:8080/"
        },
        "id": "M9qSOLYcfUcF",
        "outputId": "e04d84b9-a90d-46a8-9d27-b8981123b8e2"
      },
      "execution_count": null,
      "outputs": [
        {
          "output_type": "execute_result",
          "data": {
            "text/plain": [
              "  allvecs: [array([0.]), array([1.01]), array([0.04473376]), array([0.04479964]), array([0.04479964])]\n",
              "      fun: 645326.2315060906\n",
              " hess_inv: array([[7.35164208e-10]])\n",
              "      jac: array([9.])\n",
              "  message: 'Desired error not necessarily achieved due to precision loss.'\n",
              "     nfev: 38\n",
              "      nit: 4\n",
              "     njev: 19\n",
              "   status: 2\n",
              "  success: False\n",
              "        x: array([0.04479964])"
            ]
          },
          "metadata": {},
          "execution_count": 112
        }
      ]
    },
    {
      "cell_type": "code",
      "source": [
        "type(x3)"
      ],
      "metadata": {
        "colab": {
          "base_uri": "https://localhost:8080/"
        },
        "id": "2H0h97u70xV9",
        "outputId": "7c3e7e7a-11dc-47a9-db51-6a41934cd6bd"
      },
      "execution_count": null,
      "outputs": [
        {
          "output_type": "execute_result",
          "data": {
            "text/plain": [
              "scipy.optimize.optimize.OptimizeResult"
            ]
          },
          "metadata": {},
          "execution_count": 113
        }
      ]
    },
    {
      "cell_type": "code",
      "source": [
        "resultEir = x3.x[0]"
      ],
      "metadata": {
        "id": "I1LzhDUH0y5b"
      },
      "execution_count": null,
      "outputs": []
    },
    {
      "cell_type": "markdown",
      "source": [
        "## 임의의 정의역 `[0, 0.5)` (0~50%)에 대한 그래프 그려서 최소값 확인하기"
      ],
      "metadata": {
        "id": "dsFQr9qm8kQd"
      }
    },
    {
      "cell_type": "code",
      "source": [
        "df_check = pandas.DataFrame()"
      ],
      "metadata": {
        "id": "rORC-aHRfq6x"
      },
      "execution_count": null,
      "outputs": []
    },
    {
      "cell_type": "code",
      "source": [
        "df_check['eirRange'] = np.arange(0, 0.5, 0.0001)"
      ],
      "metadata": {
        "id": "vntYf71MgIuw"
      },
      "execution_count": null,
      "outputs": []
    },
    {
      "cell_type": "code",
      "source": [
        "df_check['func(eir)'] = df_check['eirRange'].apply(lambda x: func(x) + targetDebt)\n",
        "df_check['targetDebt'] = targetDebt\n",
        "df_check = df_check.set_index('eirRange')"
      ],
      "metadata": {
        "id": "AhY1WDvpgOY6"
      },
      "execution_count": null,
      "outputs": []
    },
    {
      "cell_type": "code",
      "source": [
        "df_check"
      ],
      "metadata": {
        "colab": {
          "base_uri": "https://localhost:8080/",
          "height": 455
        },
        "id": "MdnUeOr6hJLC",
        "outputId": "5b8f6781-a18f-42bf-e0d2-dd1798a4142a"
      },
      "execution_count": null,
      "outputs": [
        {
          "output_type": "execute_result",
          "data": {
            "text/plain": [
              "              func(eir)    targetDebt\n",
              "eirRange                             \n",
              "0.0000    920000.000000 -3.706654e+06\n",
              "0.0001    891654.954259 -3.706654e+06\n",
              "0.0002    863477.559920 -3.706654e+06\n",
              "0.0003    835466.934730 -3.706654e+06\n",
              "0.0004    807622.200981 -3.706654e+06\n",
              "...                 ...           ...\n",
              "0.4995   -582455.909225 -3.706654e+06\n",
              "0.4996   -582358.423391 -3.706654e+06\n",
              "0.4997   -582260.976137 -3.706654e+06\n",
              "0.4998   -582163.567442 -3.706654e+06\n",
              "0.4999   -582066.197281 -3.706654e+06\n",
              "\n",
              "[5000 rows x 2 columns]"
            ],
            "text/html": [
              "\n",
              "  <div id=\"df-22e6c414-13d7-4a3d-b488-148f18f168d9\">\n",
              "    <div class=\"colab-df-container\">\n",
              "      <div>\n",
              "<style scoped>\n",
              "    .dataframe tbody tr th:only-of-type {\n",
              "        vertical-align: middle;\n",
              "    }\n",
              "\n",
              "    .dataframe tbody tr th {\n",
              "        vertical-align: top;\n",
              "    }\n",
              "\n",
              "    .dataframe thead th {\n",
              "        text-align: right;\n",
              "    }\n",
              "</style>\n",
              "<table border=\"1\" class=\"dataframe\">\n",
              "  <thead>\n",
              "    <tr style=\"text-align: right;\">\n",
              "      <th></th>\n",
              "      <th>func(eir)</th>\n",
              "      <th>targetDebt</th>\n",
              "    </tr>\n",
              "    <tr>\n",
              "      <th>eirRange</th>\n",
              "      <th></th>\n",
              "      <th></th>\n",
              "    </tr>\n",
              "  </thead>\n",
              "  <tbody>\n",
              "    <tr>\n",
              "      <th>0.0000</th>\n",
              "      <td>920000.000000</td>\n",
              "      <td>-3.706654e+06</td>\n",
              "    </tr>\n",
              "    <tr>\n",
              "      <th>0.0001</th>\n",
              "      <td>891654.954259</td>\n",
              "      <td>-3.706654e+06</td>\n",
              "    </tr>\n",
              "    <tr>\n",
              "      <th>0.0002</th>\n",
              "      <td>863477.559920</td>\n",
              "      <td>-3.706654e+06</td>\n",
              "    </tr>\n",
              "    <tr>\n",
              "      <th>0.0003</th>\n",
              "      <td>835466.934730</td>\n",
              "      <td>-3.706654e+06</td>\n",
              "    </tr>\n",
              "    <tr>\n",
              "      <th>0.0004</th>\n",
              "      <td>807622.200981</td>\n",
              "      <td>-3.706654e+06</td>\n",
              "    </tr>\n",
              "    <tr>\n",
              "      <th>...</th>\n",
              "      <td>...</td>\n",
              "      <td>...</td>\n",
              "    </tr>\n",
              "    <tr>\n",
              "      <th>0.4995</th>\n",
              "      <td>-582455.909225</td>\n",
              "      <td>-3.706654e+06</td>\n",
              "    </tr>\n",
              "    <tr>\n",
              "      <th>0.4996</th>\n",
              "      <td>-582358.423391</td>\n",
              "      <td>-3.706654e+06</td>\n",
              "    </tr>\n",
              "    <tr>\n",
              "      <th>0.4997</th>\n",
              "      <td>-582260.976137</td>\n",
              "      <td>-3.706654e+06</td>\n",
              "    </tr>\n",
              "    <tr>\n",
              "      <th>0.4998</th>\n",
              "      <td>-582163.567442</td>\n",
              "      <td>-3.706654e+06</td>\n",
              "    </tr>\n",
              "    <tr>\n",
              "      <th>0.4999</th>\n",
              "      <td>-582066.197281</td>\n",
              "      <td>-3.706654e+06</td>\n",
              "    </tr>\n",
              "  </tbody>\n",
              "</table>\n",
              "<p>5000 rows × 2 columns</p>\n",
              "</div>\n",
              "      <button class=\"colab-df-convert\" onclick=\"convertToInteractive('df-22e6c414-13d7-4a3d-b488-148f18f168d9')\"\n",
              "              title=\"Convert this dataframe to an interactive table.\"\n",
              "              style=\"display:none;\">\n",
              "        \n",
              "  <svg xmlns=\"http://www.w3.org/2000/svg\" height=\"24px\"viewBox=\"0 0 24 24\"\n",
              "       width=\"24px\">\n",
              "    <path d=\"M0 0h24v24H0V0z\" fill=\"none\"/>\n",
              "    <path d=\"M18.56 5.44l.94 2.06.94-2.06 2.06-.94-2.06-.94-.94-2.06-.94 2.06-2.06.94zm-11 1L8.5 8.5l.94-2.06 2.06-.94-2.06-.94L8.5 2.5l-.94 2.06-2.06.94zm10 10l.94 2.06.94-2.06 2.06-.94-2.06-.94-.94-2.06-.94 2.06-2.06.94z\"/><path d=\"M17.41 7.96l-1.37-1.37c-.4-.4-.92-.59-1.43-.59-.52 0-1.04.2-1.43.59L10.3 9.45l-7.72 7.72c-.78.78-.78 2.05 0 2.83L4 21.41c.39.39.9.59 1.41.59.51 0 1.02-.2 1.41-.59l7.78-7.78 2.81-2.81c.8-.78.8-2.07 0-2.86zM5.41 20L4 18.59l7.72-7.72 1.47 1.35L5.41 20z\"/>\n",
              "  </svg>\n",
              "      </button>\n",
              "      \n",
              "  <style>\n",
              "    .colab-df-container {\n",
              "      display:flex;\n",
              "      flex-wrap:wrap;\n",
              "      gap: 12px;\n",
              "    }\n",
              "\n",
              "    .colab-df-convert {\n",
              "      background-color: #E8F0FE;\n",
              "      border: none;\n",
              "      border-radius: 50%;\n",
              "      cursor: pointer;\n",
              "      display: none;\n",
              "      fill: #1967D2;\n",
              "      height: 32px;\n",
              "      padding: 0 0 0 0;\n",
              "      width: 32px;\n",
              "    }\n",
              "\n",
              "    .colab-df-convert:hover {\n",
              "      background-color: #E2EBFA;\n",
              "      box-shadow: 0px 1px 2px rgba(60, 64, 67, 0.3), 0px 1px 3px 1px rgba(60, 64, 67, 0.15);\n",
              "      fill: #174EA6;\n",
              "    }\n",
              "\n",
              "    [theme=dark] .colab-df-convert {\n",
              "      background-color: #3B4455;\n",
              "      fill: #D2E3FC;\n",
              "    }\n",
              "\n",
              "    [theme=dark] .colab-df-convert:hover {\n",
              "      background-color: #434B5C;\n",
              "      box-shadow: 0px 1px 3px 1px rgba(0, 0, 0, 0.15);\n",
              "      filter: drop-shadow(0px 1px 2px rgba(0, 0, 0, 0.3));\n",
              "      fill: #FFFFFF;\n",
              "    }\n",
              "  </style>\n",
              "\n",
              "      <script>\n",
              "        const buttonEl =\n",
              "          document.querySelector('#df-22e6c414-13d7-4a3d-b488-148f18f168d9 button.colab-df-convert');\n",
              "        buttonEl.style.display =\n",
              "          google.colab.kernel.accessAllowed ? 'block' : 'none';\n",
              "\n",
              "        async function convertToInteractive(key) {\n",
              "          const element = document.querySelector('#df-22e6c414-13d7-4a3d-b488-148f18f168d9');\n",
              "          const dataTable =\n",
              "            await google.colab.kernel.invokeFunction('convertToInteractive',\n",
              "                                                     [key], {});\n",
              "          if (!dataTable) return;\n",
              "\n",
              "          const docLinkHtml = 'Like what you see? Visit the ' +\n",
              "            '<a target=\"_blank\" href=https://colab.research.google.com/notebooks/data_table.ipynb>data table notebook</a>'\n",
              "            + ' to learn more about interactive tables.';\n",
              "          element.innerHTML = '';\n",
              "          dataTable['output_type'] = 'display_data';\n",
              "          await google.colab.output.renderOutput(dataTable, element);\n",
              "          const docLink = document.createElement('div');\n",
              "          docLink.innerHTML = docLinkHtml;\n",
              "          element.appendChild(docLink);\n",
              "        }\n",
              "      </script>\n",
              "    </div>\n",
              "  </div>\n",
              "  "
            ]
          },
          "metadata": {},
          "execution_count": 145
        }
      ]
    },
    {
      "cell_type": "code",
      "source": [
        "df_check.plot.line()\n",
        "df_check[0.03:0.05].plot.line()"
      ],
      "metadata": {
        "colab": {
          "base_uri": "https://localhost:8080/",
          "height": 581
        },
        "id": "1ndVpLNugXI8",
        "outputId": "be3cafa6-3af7-44db-bf19-1e7a4a02a09b"
      },
      "execution_count": null,
      "outputs": [
        {
          "output_type": "execute_result",
          "data": {
            "text/plain": [
              "<matplotlib.axes._subplots.AxesSubplot at 0x7f58693100a0>"
            ]
          },
          "metadata": {},
          "execution_count": 157
        },
        {
          "output_type": "display_data",
          "data": {
            "text/plain": [
              "<Figure size 432x288 with 1 Axes>"
            ],
            "image/png": "[encoded data removed]"
          },
          "metadata": {
            "needs_background": "light"
          }
        },
        {
          "output_type": "display_data",
          "data": {
            "text/plain": [
              "<Figure size 432x288 with 1 Axes>"
            ],
            "image/png": "[encoded data removed]"
          },
          "metadata": {
            "needs_background": "light"
          }
        }
      ]
    },
    {
      "cell_type": "code",
      "source": [
        "print(f'명목부채(curve):\\t\\t{targetDebt}\\n명목부채(Minimized):\\t{func(resultEir) + targetDebt}\\nEIR:\\t\\t\\t{resultEir}')"
      ],
      "metadata": {
        "id": "INtZSnNniRbO",
        "colab": {
          "base_uri": "https://localhost:8080/"
        },
        "outputId": "f58e65a8-a785-459b-d007-fc7d9db85759"
      },
      "execution_count": null,
      "outputs": [
        {
          "output_type": "stream",
          "name": "stdout",
          "text": [
            "명목부채(curve):\t\t-3706654.083779\n",
            "명목부채(EIR, Optimize):\t-3061327.8522729096\n",
            "EIR:\t\t\t0.044799636723775536\n"
          ]
        }
      ]
    }
  ]
}
